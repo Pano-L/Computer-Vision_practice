{
 "cells": [
  {
   "cell_type": "code",
   "execution_count": 72,
   "metadata": {},
   "outputs": [],
   "source": [
    "import cv2\n",
    "import numpy as np\n",
    "import random\n",
    "#椒盐噪声\n",
    "def PepperandSalt(src,percetage):\n",
    "    NoiseImg=src\n",
    "    NoiseNum=int(percetage*src.shape[0]*src.shape[1])\n",
    "    for i in range(NoiseNum):\n",
    "        randX=random.randint(0,src.shape[0]-1)\n",
    "        randY=random.randint(0,src.shape[1]-1)\n",
    "        if random.randint(0,1)<=0.5:\n",
    "            NoiseImg[randX,randY]=0\n",
    "        else:\n",
    "            NoiseImg[randX,randY]=255\n",
    "    return NoiseImg\n"
   ]
  },
  {
   "cell_type": "code",
   "execution_count": 132,
   "metadata": {},
   "outputs": [],
   "source": [
    "#高斯噪声\n",
    "#mean:均值  var:方差\n",
    "def GaussianNoise(image, mean=0, var=0.01):\n",
    "    image = np.array(image/255, dtype=float)\n",
    "    noise = np.random.normal(mean, var ** 0.5, image.shape)\n",
    "    out = image + noise\n",
    "    if out.min() < 0:\n",
    "        low_clip = -1.\n",
    "    else:\n",
    "        low_clip = 0.\n",
    "    out = np.clip(out, low_clip, 1.0)\n",
    "    out = np.uint8(out*255)\n",
    "    return out"
   ]
  },
  {
   "cell_type": "code",
   "execution_count": 133,
   "metadata": {},
   "outputs": [
    {
     "data": {
      "text/plain": [
       "True"
      ]
     },
     "execution_count": 133,
     "metadata": {},
     "output_type": "execute_result"
    }
   ],
   "source": [
    "img1=cv2.imread(\"mrfz.jpg\",cv2.IMREAD_GRAYSCALE)\n",
    "cv2.imwrite(\"mrfz_grey.jpg\",img1)"
   ]
  },
  {
   "cell_type": "code",
   "execution_count": null,
   "metadata": {},
   "outputs": [],
   "source": []
  },
  {
   "cell_type": "code",
   "execution_count": 134,
   "metadata": {},
   "outputs": [],
   "source": [
    "img1=cv2.imread(\"image_grey.jpg\")\n",
    "img_salt=PepperandSalt(img1,0.1)\n",
    "img_gauss=GaussianNoise(img1)"
   ]
  },
  {
   "cell_type": "code",
   "execution_count": 135,
   "metadata": {},
   "outputs": [
    {
     "data": {
      "text/plain": [
       "True"
      ]
     },
     "execution_count": 135,
     "metadata": {},
     "output_type": "execute_result"
    }
   ],
   "source": [
    "cv2.imwrite(\"PepperandSalt.jpg\",img_salt)\n",
    "cv2.imwrite(\"GaussianNoise.jpg\",img_gauss)"
   ]
  },
  {
   "cell_type": "code",
   "execution_count": 139,
   "metadata": {},
   "outputs": [
    {
     "data": {
      "text/plain": [
       "True"
      ]
     },
     "execution_count": 139,
     "metadata": {},
     "output_type": "execute_result"
    }
   ],
   "source": [
    "#均值滤波\n",
    "dst_avg_1 = cv2.blur(img_salt, (5, 5))\n",
    "dst_avg_2 = cv2.blur(img_gauss, (5, 5))\n",
    "cv2.imwrite(\"Avg_blur_PepperandSalt.jpg\",dst_avg_1)\n",
    "cv2.imwrite(\"Avg_blur_GaussianNoise.jpg\",dst_avg_2)"
   ]
  },
  {
   "cell_type": "code",
   "execution_count": 140,
   "metadata": {},
   "outputs": [
    {
     "data": {
      "text/plain": [
       "True"
      ]
     },
     "execution_count": 140,
     "metadata": {},
     "output_type": "execute_result"
    }
   ],
   "source": [
    "#中值滤波\n",
    "dst_median_1 = cv2.medianBlur(img_salt,3)\n",
    "dst_median_2 = cv2.medianBlur(img_gauss,5)\n",
    "cv2.imwrite(\"Median_blur_PepperandSalt.jpg\",dst_median_1)\n",
    "cv2.imwrite(\"Median_blur_GaussianNoise.jpg\",dst_median_2)"
   ]
  },
  {
   "cell_type": "code",
   "execution_count": 141,
   "metadata": {},
   "outputs": [
    {
     "data": {
      "text/plain": [
       "True"
      ]
     },
     "execution_count": 141,
     "metadata": {},
     "output_type": "execute_result"
    }
   ],
   "source": [
    "#高斯滤波\n",
    "dst_gauss_1 = cv2.GaussianBlur(img_salt,(5,5),0)\n",
    "dst_gauss_2 = cv2.GaussianBlur(img_gauss,(5,5),0)\n",
    "cv2.imwrite(\"Gauss_blur_PepperandSalt.jpg\",dst_gauss_1)\n",
    "cv2.imwrite(\"Gauss_blur_GaussianNoise.jpg\",dst_gauss_2)"
   ]
  },
  {
   "cell_type": "code",
   "execution_count": null,
   "metadata": {},
   "outputs": [],
   "source": []
  },
  {
   "cell_type": "code",
   "execution_count": null,
   "metadata": {},
   "outputs": [],
   "source": []
  }
 ],
 "metadata": {
  "kernelspec": {
   "display_name": "Python 3",
   "language": "python",
   "name": "python3"
  },
  "language_info": {
   "codemirror_mode": {
    "name": "ipython",
    "version": 3
   },
   "file_extension": ".py",
   "mimetype": "text/x-python",
   "name": "python",
   "nbconvert_exporter": "python",
   "pygments_lexer": "ipython3",
   "version": "3.8.3"
  }
 },
 "nbformat": 4,
 "nbformat_minor": 4
}
